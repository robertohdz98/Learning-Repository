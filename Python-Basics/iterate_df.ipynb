{
 "cells": [
  {
   "cell_type": "code",
   "execution_count": 2,
   "metadata": {},
   "outputs": [],
   "source": [
    "import pandas as pd\n",
    "\n",
    "data = {\"Company\":[\"HP\",\"Amazon\", \"IBM\", \"Intel\"],\n",
    "    \"Headquarters\":[\"California\",\"New York\",\"California\",\"Washington\"],\n",
    "    \"CEO\":[\"Weisler\",\"Bezos\",\"Rometty\",\"Swan\"]}"
   ]
  },
  {
   "cell_type": "code",
   "execution_count": 3,
   "metadata": {},
   "outputs": [
    {
     "data": {
      "text/html": [
       "<div>\n",
       "<style scoped>\n",
       "    .dataframe tbody tr th:only-of-type {\n",
       "        vertical-align: middle;\n",
       "    }\n",
       "\n",
       "    .dataframe tbody tr th {\n",
       "        vertical-align: top;\n",
       "    }\n",
       "\n",
       "    .dataframe thead th {\n",
       "        text-align: right;\n",
       "    }\n",
       "</style>\n",
       "<table border=\"1\" class=\"dataframe\">\n",
       "  <thead>\n",
       "    <tr style=\"text-align: right;\">\n",
       "      <th></th>\n",
       "      <th>Company</th>\n",
       "      <th>Headquarters</th>\n",
       "      <th>CEO</th>\n",
       "    </tr>\n",
       "  </thead>\n",
       "  <tbody>\n",
       "    <tr>\n",
       "      <th>0</th>\n",
       "      <td>HP</td>\n",
       "      <td>California</td>\n",
       "      <td>Weisler</td>\n",
       "    </tr>\n",
       "    <tr>\n",
       "      <th>1</th>\n",
       "      <td>Amazon</td>\n",
       "      <td>New York</td>\n",
       "      <td>Bezos</td>\n",
       "    </tr>\n",
       "    <tr>\n",
       "      <th>2</th>\n",
       "      <td>IBM</td>\n",
       "      <td>California</td>\n",
       "      <td>Rometty</td>\n",
       "    </tr>\n",
       "    <tr>\n",
       "      <th>3</th>\n",
       "      <td>Intel</td>\n",
       "      <td>Washington</td>\n",
       "      <td>Swan</td>\n",
       "    </tr>\n",
       "  </tbody>\n",
       "</table>\n",
       "</div>"
      ],
      "text/plain": [
       "  Company Headquarters      CEO\n",
       "0      HP   California  Weisler\n",
       "1  Amazon     New York    Bezos\n",
       "2     IBM   California  Rometty\n",
       "3   Intel   Washington     Swan"
      ]
     },
     "execution_count": 3,
     "metadata": {},
     "output_type": "execute_result"
    }
   ],
   "source": [
    "# Convert dict to DF\n",
    "tech_company_df = pd.DataFrame(data)\n",
    "tech_company_df"
   ]
  },
  {
   "cell_type": "markdown",
   "metadata": {},
   "source": [
    "## Iterate a DF"
   ]
  },
  {
   "cell_type": "code",
   "execution_count": 4,
   "metadata": {},
   "outputs": [
    {
     "name": "stdout",
     "output_type": "stream",
     "text": [
      "Company: HP\n",
      "CEO: Weisler \n",
      "\n",
      "Headquarters: HP\n",
      "Company: Amazon\n",
      "CEO: Bezos \n",
      "\n",
      "Headquarters: Amazon\n",
      "Company: IBM\n",
      "CEO: Rometty \n",
      "\n",
      "Headquarters: IBM\n",
      "Company: Intel\n",
      "CEO: Swan \n",
      "\n",
      "Headquarters: Intel\n"
     ]
    }
   ],
   "source": [
    "# Iterate DF by rows\n",
    "for row in tech_company_df.itertuples():\n",
    "    print(\"Company:\", row.Company)\n",
    "    print(\"CEO:\", row.CEO,\"\\n\")\n",
    "    print(\"Headquarters:\",row[1]) #access by indexing is also possible"
   ]
  },
  {
   "cell_type": "code",
   "execution_count": 5,
   "metadata": {},
   "outputs": [
    {
     "name": "stdout",
     "output_type": "stream",
     "text": [
      "Row contents in Row 0:\n",
      "Company                 HP\n",
      "Headquarters    California\n",
      "CEO                Weisler\n",
      "Name: 0, dtype: object\n",
      "\n",
      "Row contents in Row 1:\n",
      "Company           Amazon\n",
      "Headquarters    New York\n",
      "CEO                Bezos\n",
      "Name: 1, dtype: object\n",
      "\n",
      "Row contents in Row 2:\n",
      "Company                IBM\n",
      "Headquarters    California\n",
      "CEO                Rometty\n",
      "Name: 2, dtype: object\n",
      "\n",
      "Row contents in Row 3:\n",
      "Company              Intel\n",
      "Headquarters    Washington\n",
      "CEO                   Swan\n",
      "Name: 3, dtype: object\n",
      "\n"
     ]
    }
   ],
   "source": [
    "# Iterate DF by rows\n",
    "for row_index, row in tech_company_df.iterrows():\n",
    "    print(\"Row contents in Row {}:\\n{}\\n\".format(row_index,row))"
   ]
  },
  {
   "cell_type": "code",
   "execution_count": 6,
   "metadata": {},
   "outputs": [
    {
     "name": "stdout",
     "output_type": "stream",
     "text": [
      "Column contents in Column Company:\n",
      "0        HP\n",
      "1    Amazon\n",
      "2       IBM\n",
      "3     Intel\n",
      "Name: Company, dtype: object\n",
      "\n",
      "Column contents in Column Headquarters:\n",
      "0    California\n",
      "1      New York\n",
      "2    California\n",
      "3    Washington\n",
      "Name: Headquarters, dtype: object\n",
      "\n",
      "Column contents in Column CEO:\n",
      "0    Weisler\n",
      "1      Bezos\n",
      "2    Rometty\n",
      "3       Swan\n",
      "Name: CEO, dtype: object\n",
      "\n"
     ]
    }
   ],
   "source": [
    "# Iterate DF by columns\n",
    "for key, value in tech_company_df.iteritems():\n",
    "    print(\"Column contents in Column {}:\\n{}\\n\".format(key,value))"
   ]
  },
  {
   "cell_type": "markdown",
   "metadata": {},
   "source": [
    "## Exporting DF to different formats"
   ]
  },
  {
   "cell_type": "code",
   "execution_count": 11,
   "metadata": {},
   "outputs": [
    {
     "name": "stdout",
     "output_type": "stream",
     "text": [
      "DF exported to Excel file.\n",
      "DF exported to TEXT file.\n",
      "DF exported to CSV file.\n",
      "DF exported to JSON file.\n",
      "DF exported to HTML file.\n"
     ]
    }
   ],
   "source": [
    "# Export to an EXCEL file\n",
    "tech_company_df.to_excel('./datasets/Tech_Company.xlsx', index=False)\n",
    "print(\"DF exported to Excel file.\")\n",
    "# Export to an TEXT file\n",
    "tech_company_df.to_csv('./datasets/Tech_Company.txt', index=False)\n",
    "print(\"DF exported to TEXT file.\")\n",
    "# Export to an CSV file\n",
    "tech_company_df.to_csv('./datasets/Tech_Company.csv', index=False)\n",
    "print(\"DF exported to CSV file.\")\n",
    "# Export to an JSON file\n",
    "tech_company_df.to_json('./datasets/Tech_Company.json')\n",
    "print(\"DF exported to JSON file.\")\n",
    "# Export to an HTML file\n",
    "tech_company_df.to_html('./datasets/Tech_Company.html')\n",
    "print(\"DF exported to HTML file.\")"
   ]
  },
  {
   "cell_type": "code",
   "execution_count": null,
   "metadata": {},
   "outputs": [],
   "source": []
  }
 ],
 "metadata": {
  "kernelspec": {
   "display_name": "Python 3.8.3 ('base')",
   "language": "python",
   "name": "python3"
  },
  "language_info": {
   "codemirror_mode": {
    "name": "ipython",
    "version": 3
   },
   "file_extension": ".py",
   "mimetype": "text/x-python",
   "name": "python",
   "nbconvert_exporter": "python",
   "pygments_lexer": "ipython3",
   "version": "3.8.3"
  },
  "orig_nbformat": 4,
  "vscode": {
   "interpreter": {
    "hash": "cd78fef2128015050713e82ca51c6520b11aee7c9ee8df750520bbbc7384cbaa"
   }
  }
 },
 "nbformat": 4,
 "nbformat_minor": 2
}
